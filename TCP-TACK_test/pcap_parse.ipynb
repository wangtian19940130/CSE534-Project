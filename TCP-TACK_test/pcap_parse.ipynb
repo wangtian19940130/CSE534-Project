{
 "cells": [
  {
   "cell_type": "code",
   "execution_count": 1,
   "metadata": {},
   "outputs": [],
   "source": [
    "import dpkt"
   ]
  },
  {
   "cell_type": "code",
   "execution_count": 20,
   "metadata": {},
   "outputs": [],
   "source": [
    "f = open('TCP-TACK_test.pcap', 'rb')\n",
    "pcap = dpkt.pcap.Reader(f)\n",
    "pcap_bytes = pcap.readpkts()"
   ]
  },
  {
   "cell_type": "code",
   "execution_count": 19,
   "metadata": {},
   "outputs": [
    {
     "data": {
      "text/plain": [
       "1607188050.510484"
      ]
     },
     "execution_count": 19,
     "metadata": {},
     "output_type": "execute_result"
    }
   ],
   "source": [
    "pacp_bytes[-1][0]"
   ]
  },
  {
   "cell_type": "code",
   "execution_count": 30,
   "metadata": {},
   "outputs": [],
   "source": [
    "time_start = pcap_bytes[0][0]\n",
    "time_end = pcap_bytes[-1][0]\n",
    "throughput = 0.0"
   ]
  },
  {
   "cell_type": "code",
   "execution_count": 31,
   "metadata": {},
   "outputs": [
    {
     "name": "stdout",
     "output_type": "stream",
     "text": [
      "1607188045.92285\n",
      "1607188050.510484\n"
     ]
    }
   ],
   "source": [
    "print(time_start)\n",
    "print(time_end)\n",
    "time_len = time_end-time_start"
   ]
  },
  {
   "cell_type": "code",
   "execution_count": 33,
   "metadata": {},
   "outputs": [],
   "source": [
    "for packet in pcap_bytes:\n",
    "    if len(packet[1])==1394:\n",
    "        throughput += (1312-20)*8"
   ]
  },
  {
   "cell_type": "code",
   "execution_count": 34,
   "metadata": {},
   "outputs": [
    {
     "data": {
      "text/plain": [
       "18562575.478409134"
      ]
     },
     "execution_count": 34,
     "metadata": {},
     "output_type": "execute_result"
    }
   ],
   "source": [
    "throughput/(time_end-time_start)"
   ]
  },
  {
   "cell_type": "markdown",
   "metadata": {},
   "source": [
    "Network throughput is 18.5Mbps"
   ]
  },
  {
   "cell_type": "code",
   "execution_count": 61,
   "metadata": {},
   "outputs": [],
   "source": [
    "tmp = time_start\n",
    "tmp_throughput = 0\n",
    "r_throughput = []\n",
    "for packet in pcap_bytes:\n",
    "    if len(packet[1])==1394:\n",
    "        if packet[0]<tmp+0.1:\n",
    "            tmp_throughput+= (1312-20)*8\n",
    "        else:\n",
    "            r_throughput.append(tmp_throughput*10/1000000)\n",
    "            tmp_throughput = 0\n",
    "            tmp = tmp+0.1\n",
    "r_throughput.append(tmp_throughput*10/1000000)"
   ]
  },
  {
   "cell_type": "code",
   "execution_count": 62,
   "metadata": {},
   "outputs": [
    {
     "data": {
      "text/plain": [
       "[4.54784,\n",
       " 14.36704,\n",
       " 15.60736,\n",
       " 17.36448,\n",
       " 17.98464,\n",
       " 17.0544,\n",
       " 17.0544,\n",
       " 24.70304,\n",
       " 29.25088,\n",
       " 29.76768,\n",
       " 28.83744,\n",
       " 21.80896,\n",
       " 18.39808,\n",
       " 18.39808,\n",
       " 18.39808,\n",
       " 18.50144,\n",
       " 18.39808,\n",
       " 18.39808,\n",
       " 18.50144,\n",
       " 18.39808,\n",
       " 18.29472,\n",
       " 18.39808,\n",
       " 18.50144,\n",
       " 18.39808,\n",
       " 18.39808,\n",
       " 18.39808,\n",
       " 18.29472,\n",
       " 18.39808,\n",
       " 18.50144,\n",
       " 18.50144,\n",
       " 18.39808,\n",
       " 18.39808,\n",
       " 18.39808,\n",
       " 16.95104,\n",
       " 19.94848,\n",
       " 18.29472,\n",
       " 18.39808,\n",
       " 18.29472,\n",
       " 18.6048,\n",
       " 18.39808,\n",
       " 18.19136,\n",
       " 18.39808,\n",
       " 18.50144,\n",
       " 18.50144,\n",
       " 18.39808,\n",
       " 1.0336]"
      ]
     },
     "execution_count": 62,
     "metadata": {},
     "output_type": "execute_result"
    }
   ],
   "source": [
    "r_throughput"
   ]
  },
  {
   "cell_type": "code",
   "execution_count": 63,
   "metadata": {},
   "outputs": [],
   "source": [
    "import matplotlib.pyplot as plt"
   ]
  },
  {
   "cell_type": "code",
   "execution_count": 64,
   "metadata": {},
   "outputs": [],
   "source": [
    "x = []\n",
    "for i in range(len(r_throughput)):\n",
    "    x.append(0.1*i)"
   ]
  },
  {
   "cell_type": "code",
   "execution_count": 65,
   "metadata": {},
   "outputs": [
    {
     "data": {
      "image/png": "[encoded data removed]",
      "text/plain": [
       "<Figure size 432x288 with 1 Axes>"
      ]
     },
     "metadata": {
      "needs_background": "light"
     },
     "output_type": "display_data"
    }
   ],
   "source": [
    "plt.plot(x,r_throughput)\n",
    "plt.title('Real-Time Bit Rate of TCP-TACK')\n",
    "plt.xlabel('Time(s)')\n",
    "plt.ylabel('Bit Rate (Mbps)')\n",
    "plt.savefig('TCP-TACK_bit_rate')\n",
    "plt.show()"
   ]
  },
  {
   "cell_type": "code",
   "execution_count": 66,
   "metadata": {},
   "outputs": [],
   "source": [
    "ack_count = 0\n",
    "data_count = 0\n",
    "for packet in pcap_bytes:\n",
    "    if len(packet[1]) == 294:\n",
    "        ack_count += 1\n",
    "    if len(packet[1]) == 1394:\n",
    "        data_count += 1"
   ]
  },
  {
   "cell_type": "code",
   "execution_count": 67,
   "metadata": {},
   "outputs": [
    {
     "data": {
      "text/plain": [
       "1372"
      ]
     },
     "execution_count": 67,
     "metadata": {},
     "output_type": "execute_result"
    }
   ],
   "source": [
    "ack_count"
   ]
  },
  {
   "cell_type": "code",
   "execution_count": 68,
   "metadata": {},
   "outputs": [
    {
     "data": {
      "text/plain": [
       "8239"
      ]
     },
     "execution_count": 68,
     "metadata": {},
     "output_type": "execute_result"
    }
   ],
   "source": [
    "data_count"
   ]
  },
  {
   "cell_type": "markdown",
   "metadata": {},
   "source": [
    "1:8 is close to the optimal ACK/Data packet ratio in IEEE 802.11g networks."
   ]
  },
  {
   "cell_type": "code",
   "execution_count": 70,
   "metadata": {},
   "outputs": [],
   "source": [
    "tmp = time_start\n",
    "tmp_ack = 0\n",
    "r_ack = []\n",
    "for packet in pcap_bytes:\n",
    "    if len(packet[1]) == 294:\n",
    "        if packet[0]<tmp+0.1:\n",
    "            tmp_ack += 1\n",
    "        else:\n",
    "            r_ack.append(tmp_ack)\n",
    "            tmp_ack = 0\n",
    "            tmp = tmp + 0.1\n",
    "r_ack.append(tmp_ack)"
   ]
  },
  {
   "cell_type": "code",
   "execution_count": 71,
   "metadata": {},
   "outputs": [
    {
     "data": {
      "text/plain": [
       "46"
      ]
     },
     "execution_count": 71,
     "metadata": {},
     "output_type": "execute_result"
    }
   ],
   "source": [
    "len(r_ack)"
   ]
  },
  {
   "cell_type": "code",
   "execution_count": 72,
   "metadata": {},
   "outputs": [
    {
     "data": {
      "image/png": "[encoded data removed]",
      "text/plain": [
       "<Figure size 432x288 with 1 Axes>"
      ]
     },
     "metadata": {
      "needs_background": "light"
     },
     "output_type": "display_data"
    }
   ],
   "source": [
    "plt.plot(x,r_ack)\n",
    "plt.title('Real-Time ACK Packet Rate of TCP-TACK')\n",
    "plt.xlabel('Time(s)')\n",
    "plt.ylabel('Packt Rate (/s)')\n",
    "plt.savefig('TCP-TACK_ack_rate')\n",
    "plt.show()"
   ]
  },
  {
   "cell_type": "code",
   "execution_count": null,
   "metadata": {},
   "outputs": [],
   "source": []
  }
 ],
 "metadata": {
  "kernelspec": {
   "display_name": "Python 3",
   "language": "python",
   "name": "python3"
  },
  "language_info": {
   "codemirror_mode": {
    "name": "ipython",
    "version": 3
   },
   "file_extension": ".py",
   "mimetype": "text/x-python",
   "name": "python",
   "nbconvert_exporter": "python",
   "pygments_lexer": "ipython3",
   "version": "3.8.3"
  }
 },
 "nbformat": 4,
 "nbformat_minor": 4
}
